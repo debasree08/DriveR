{
 "cells": [
  {
   "cell_type": "code",
   "execution_count": 1,
   "metadata": {},
   "outputs": [],
   "source": [
    "import numpy as np\n",
    "import pandas as pd\n",
    "from tqdm import tqdm\n",
    "import matplotlib.pyplot as plt"
   ]
  },
  {
   "cell_type": "code",
   "execution_count": 2,
   "metadata": {},
   "outputs": [],
   "source": [
    "df=pd.read_csv(\"inputfile.csv\",sep=';').drop(columns=['Unnamed: 0'])\n",
    "# df['GroundTruthRating']=(df.GroundTruthRating-3) #likert scale"
   ]
  },
  {
   "cell_type": "code",
   "execution_count": 3,
   "metadata": {},
   "outputs": [],
   "source": [
    "check_cols=['peds_speed', 'weaving', 'swerving','sideslip', 'timeofday',\n",
    "            'roadtype', 'Congestion', 'BrakeLight','Jerk_binary', 'relspeed_binary',\n",
    "            'reldist_binary','turns_binary', 'stop_binary']"
   ]
  },
  {
   "cell_type": "code",
   "execution_count": 4,
   "metadata": {},
   "outputs": [],
   "source": [
    "df['ID']=df[check_cols].apply(lambda e:f'{e[0]}{1 if e[1]==1 or e[2]==1 or e[3]==1 else 0}{e[4]}{e[5]}{e[6]}{e[7]}{e[8]}{e[9]}{e[10]}{e[11]}{e[12]}',axis=1)\n",
    "\n",
    "unique_state=df['ID'].unique()\n",
    "uDict=dict(zip(unique_state,range(len(unique_state))))\n",
    "df['state']=df['ID'].map(uDict)"
   ]
  },
  {
   "cell_type": "code",
   "execution_count": 5,
   "metadata": {},
   "outputs": [
    {
     "name": "stderr",
     "output_type": "stream",
     "text": [
      "100%|████████████████████████████████████████████████████████████████████████████████| 268/268 [32:21<00:00,  7.24s/it]\n"
     ]
    }
   ],
   "source": [
    "matrix=[]\n",
    "for s0 in tqdm(range(len(unique_state))):\n",
    "    row=[]\n",
    "    for s1 in range(len(unique_state)):\n",
    "        count_cond=0\n",
    "        count=0\n",
    "        for i in range(df.shape[0]-1):\n",
    "            if df['state'][i]==s0 and df['state'][i+1]==s1:\n",
    "                 count_cond+=1;count+=1\n",
    "            elif df['state'][i]==s0:\n",
    "                count+=1\n",
    "        row.append(count_cond/(count+1e-7))\n",
    "    matrix.append(row)"
   ]
  },
  {
   "cell_type": "code",
   "execution_count": 6,
   "metadata": {},
   "outputs": [],
   "source": [
    "P=np.array(matrix)"
   ]
  },
  {
   "cell_type": "code",
   "execution_count": 7,
   "metadata": {},
   "outputs": [],
   "source": [
    "R=df.groupby('state')['GroundTruthRating'].mean().sort_index().values.reshape(-1,1)"
   ]
  },
  {
   "cell_type": "code",
   "execution_count": 8,
   "metadata": {},
   "outputs": [],
   "source": [
    "#Value Iteration"
   ]
  },
  {
   "cell_type": "code",
   "execution_count": 9,
   "metadata": {},
   "outputs": [],
   "source": [
    "gamma=0.99"
   ]
  },
  {
   "cell_type": "code",
   "execution_count": 10,
   "metadata": {},
   "outputs": [],
   "source": [
    "V=np.matmul(np.matrix(np.eye(len(unique_state))-gamma*P).I,R)"
   ]
  },
  {
   "cell_type": "code",
   "execution_count": 11,
   "metadata": {},
   "outputs": [
    {
     "data": {
      "text/plain": [
       "[<matplotlib.lines.Line2D at 0x21ed2c54af0>]"
      ]
     },
     "execution_count": 11,
     "metadata": {},
     "output_type": "execute_result"
    },
    {
     "data": {
      "image/png": "[encoded data removed]",
      "text/plain": [
       "<Figure size 432x288 with 1 Axes>"
      ]
     },
     "metadata": {
      "needs_background": "light"
     },
     "output_type": "display_data"
    }
   ],
   "source": [
    "plt.plot(V)"
   ]
  },
  {
   "cell_type": "code",
   "execution_count": 12,
   "metadata": {
    "scrolled": true
   },
   "outputs": [
    {
     "data": {
      "text/plain": [
       "array([1., 1., 1., 1., 1., 1., 1., 1., 1., 1., 1., 1., 1., 1., 1., 1., 1.,\n",
       "       1., 1., 1., 1., 1., 1., 1., 1., 1., 1., 1., 1., 1., 1., 1., 1., 1.,\n",
       "       1., 1., 1., 1., 1., 1., 1., 1., 1., 1., 1., 1., 1., 1., 1., 1., 1.,\n",
       "       1., 1., 1., 1., 1., 1., 1., 1., 1., 1., 1., 1., 1., 1., 1., 1., 1.,\n",
       "       1., 1., 1., 1., 1., 1., 1., 1., 1., 1., 1., 1., 1., 1., 1., 1., 1.,\n",
       "       1., 1., 1., 1., 1., 1., 1., 1., 1., 1., 1., 1., 1., 1., 1., 1., 1.,\n",
       "       1., 1., 1., 1., 1., 1., 1., 1., 1., 1., 1., 1., 1., 1., 1., 1., 1.,\n",
       "       1., 1., 1., 1., 1., 1., 1., 1., 1., 1., 1., 1., 1., 1., 1., 1., 1.,\n",
       "       1., 1., 1., 1., 1., 1., 1., 1., 1., 1., 1., 1., 1., 1., 1., 1., 1.,\n",
       "       1., 1., 1., 1., 1., 1., 1., 1., 1., 1., 1., 1., 1., 1., 1., 1., 1.,\n",
       "       1., 1., 1., 1., 1., 1., 1., 1., 1., 1., 1., 1., 1., 1., 1., 1., 1.,\n",
       "       1., 1., 1., 1., 1., 1., 1., 1., 1., 1., 1., 1., 1., 1., 1., 1., 1.,\n",
       "       1., 1., 1., 1., 1., 1., 1., 1., 1., 1., 1., 1., 1., 1., 1., 1., 1.,\n",
       "       1., 1., 1., 1., 1., 1., 1., 1., 1., 1., 1., 1., 1., 1., 1., 1., 1.,\n",
       "       1., 1., 1., 1., 1., 1., 1., 1., 1., 1., 1., 1., 1., 1., 1., 1., 1.,\n",
       "       1., 1., 1., 1., 1., 1., 1., 1., 1., 1., 1., 1., 1.])"
      ]
     },
     "execution_count": 12,
     "metadata": {},
     "output_type": "execute_result"
    }
   ],
   "source": [
    "np.round(P.sum(axis=1))"
   ]
  },
  {
   "cell_type": "code",
   "execution_count": 13,
   "metadata": {},
   "outputs": [],
   "source": [
    "df['value']=df['state'].apply(lambda e:V[e,0])"
   ]
  },
  {
   "cell_type": "code",
   "execution_count": 14,
   "metadata": {
    "scrolled": true
   },
   "outputs": [
    {
     "data": {
      "text/html": [
       "<div>\n",
       "<style scoped>\n",
       "    .dataframe tbody tr th:only-of-type {\n",
       "        vertical-align: middle;\n",
       "    }\n",
       "\n",
       "    .dataframe tbody tr th {\n",
       "        vertical-align: top;\n",
       "    }\n",
       "\n",
       "    .dataframe thead th {\n",
       "        text-align: right;\n",
       "    }\n",
       "</style>\n",
       "<table border=\"1\" class=\"dataframe\">\n",
       "  <thead>\n",
       "    <tr style=\"text-align: right;\">\n",
       "      <th></th>\n",
       "      <th>FileName</th>\n",
       "      <th>timestamp</th>\n",
       "      <th>peds_speed</th>\n",
       "      <th>weaving</th>\n",
       "      <th>swerving</th>\n",
       "      <th>sideslip</th>\n",
       "      <th>timeofday</th>\n",
       "      <th>roadtype</th>\n",
       "      <th>Congestion</th>\n",
       "      <th>BrakeLight</th>\n",
       "      <th>GroundTruthRating</th>\n",
       "      <th>Jerk_binary</th>\n",
       "      <th>relspeed_binary</th>\n",
       "      <th>reldist_binary</th>\n",
       "      <th>turns_binary</th>\n",
       "      <th>stop_binary</th>\n",
       "      <th>ID</th>\n",
       "      <th>state</th>\n",
       "      <th>value</th>\n",
       "    </tr>\n",
       "  </thead>\n",
       "  <tbody>\n",
       "    <tr>\n",
       "      <th>0</th>\n",
       "      <td>0000f77c-62c2a288</td>\n",
       "      <td>5s</td>\n",
       "      <td>0</td>\n",
       "      <td>0</td>\n",
       "      <td>0</td>\n",
       "      <td>0</td>\n",
       "      <td>1</td>\n",
       "      <td>2</td>\n",
       "      <td>0</td>\n",
       "      <td>0</td>\n",
       "      <td>4</td>\n",
       "      <td>0</td>\n",
       "      <td>0</td>\n",
       "      <td>0</td>\n",
       "      <td>0</td>\n",
       "      <td>0</td>\n",
       "      <td>00120000000</td>\n",
       "      <td>0</td>\n",
       "      <td>407.115536</td>\n",
       "    </tr>\n",
       "    <tr>\n",
       "      <th>1</th>\n",
       "      <td>0000f77c-62c2a288</td>\n",
       "      <td>10s</td>\n",
       "      <td>0</td>\n",
       "      <td>0</td>\n",
       "      <td>0</td>\n",
       "      <td>0</td>\n",
       "      <td>1</td>\n",
       "      <td>2</td>\n",
       "      <td>0</td>\n",
       "      <td>0</td>\n",
       "      <td>4</td>\n",
       "      <td>0</td>\n",
       "      <td>0</td>\n",
       "      <td>0</td>\n",
       "      <td>0</td>\n",
       "      <td>1</td>\n",
       "      <td>00120000001</td>\n",
       "      <td>1</td>\n",
       "      <td>407.044341</td>\n",
       "    </tr>\n",
       "    <tr>\n",
       "      <th>2</th>\n",
       "      <td>0000f77c-62c2a288</td>\n",
       "      <td>15s</td>\n",
       "      <td>0</td>\n",
       "      <td>0</td>\n",
       "      <td>0</td>\n",
       "      <td>0</td>\n",
       "      <td>1</td>\n",
       "      <td>2</td>\n",
       "      <td>0</td>\n",
       "      <td>0</td>\n",
       "      <td>4</td>\n",
       "      <td>0</td>\n",
       "      <td>0</td>\n",
       "      <td>0</td>\n",
       "      <td>0</td>\n",
       "      <td>0</td>\n",
       "      <td>00120000000</td>\n",
       "      <td>0</td>\n",
       "      <td>407.115536</td>\n",
       "    </tr>\n",
       "    <tr>\n",
       "      <th>3</th>\n",
       "      <td>0000f77c-62c2a288</td>\n",
       "      <td>20s</td>\n",
       "      <td>0</td>\n",
       "      <td>0</td>\n",
       "      <td>0</td>\n",
       "      <td>0</td>\n",
       "      <td>1</td>\n",
       "      <td>2</td>\n",
       "      <td>0</td>\n",
       "      <td>0</td>\n",
       "      <td>4</td>\n",
       "      <td>1</td>\n",
       "      <td>0</td>\n",
       "      <td>0</td>\n",
       "      <td>1</td>\n",
       "      <td>1</td>\n",
       "      <td>00120010011</td>\n",
       "      <td>2</td>\n",
       "      <td>407.044341</td>\n",
       "    </tr>\n",
       "    <tr>\n",
       "      <th>4</th>\n",
       "      <td>0000f77c-62c2a288</td>\n",
       "      <td>25s</td>\n",
       "      <td>0</td>\n",
       "      <td>0</td>\n",
       "      <td>0</td>\n",
       "      <td>0</td>\n",
       "      <td>1</td>\n",
       "      <td>2</td>\n",
       "      <td>0</td>\n",
       "      <td>0</td>\n",
       "      <td>4</td>\n",
       "      <td>0</td>\n",
       "      <td>0</td>\n",
       "      <td>0</td>\n",
       "      <td>0</td>\n",
       "      <td>0</td>\n",
       "      <td>00120000000</td>\n",
       "      <td>0</td>\n",
       "      <td>407.115536</td>\n",
       "    </tr>\n",
       "    <tr>\n",
       "      <th>...</th>\n",
       "      <td>...</td>\n",
       "      <td>...</td>\n",
       "      <td>...</td>\n",
       "      <td>...</td>\n",
       "      <td>...</td>\n",
       "      <td>...</td>\n",
       "      <td>...</td>\n",
       "      <td>...</td>\n",
       "      <td>...</td>\n",
       "      <td>...</td>\n",
       "      <td>...</td>\n",
       "      <td>...</td>\n",
       "      <td>...</td>\n",
       "      <td>...</td>\n",
       "      <td>...</td>\n",
       "      <td>...</td>\n",
       "      <td>...</td>\n",
       "      <td>...</td>\n",
       "      <td>...</td>\n",
       "    </tr>\n",
       "    <tr>\n",
       "      <th>669</th>\n",
       "      <td>006382a3-4a442001</td>\n",
       "      <td>10s</td>\n",
       "      <td>0</td>\n",
       "      <td>0</td>\n",
       "      <td>0</td>\n",
       "      <td>0</td>\n",
       "      <td>0</td>\n",
       "      <td>1</td>\n",
       "      <td>1</td>\n",
       "      <td>1</td>\n",
       "      <td>3</td>\n",
       "      <td>1</td>\n",
       "      <td>0</td>\n",
       "      <td>0</td>\n",
       "      <td>0</td>\n",
       "      <td>0</td>\n",
       "      <td>00011110000</td>\n",
       "      <td>267</td>\n",
       "      <td>406.300285</td>\n",
       "    </tr>\n",
       "    <tr>\n",
       "      <th>670</th>\n",
       "      <td>006382a3-4a442001</td>\n",
       "      <td>15s</td>\n",
       "      <td>0</td>\n",
       "      <td>0</td>\n",
       "      <td>0</td>\n",
       "      <td>0</td>\n",
       "      <td>0</td>\n",
       "      <td>1</td>\n",
       "      <td>1</td>\n",
       "      <td>0</td>\n",
       "      <td>3</td>\n",
       "      <td>0</td>\n",
       "      <td>0</td>\n",
       "      <td>0</td>\n",
       "      <td>0</td>\n",
       "      <td>0</td>\n",
       "      <td>00011000000</td>\n",
       "      <td>49</td>\n",
       "      <td>407.374066</td>\n",
       "    </tr>\n",
       "    <tr>\n",
       "      <th>671</th>\n",
       "      <td>006382a3-4a442001</td>\n",
       "      <td>25s</td>\n",
       "      <td>0</td>\n",
       "      <td>0</td>\n",
       "      <td>0</td>\n",
       "      <td>0</td>\n",
       "      <td>0</td>\n",
       "      <td>1</td>\n",
       "      <td>1</td>\n",
       "      <td>0</td>\n",
       "      <td>4</td>\n",
       "      <td>1</td>\n",
       "      <td>0</td>\n",
       "      <td>0</td>\n",
       "      <td>0</td>\n",
       "      <td>1</td>\n",
       "      <td>00011010001</td>\n",
       "      <td>200</td>\n",
       "      <td>406.348245</td>\n",
       "    </tr>\n",
       "    <tr>\n",
       "      <th>672</th>\n",
       "      <td>006382a3-4a442001</td>\n",
       "      <td>30s</td>\n",
       "      <td>0</td>\n",
       "      <td>0</td>\n",
       "      <td>0</td>\n",
       "      <td>0</td>\n",
       "      <td>0</td>\n",
       "      <td>1</td>\n",
       "      <td>1</td>\n",
       "      <td>0</td>\n",
       "      <td>4</td>\n",
       "      <td>1</td>\n",
       "      <td>0</td>\n",
       "      <td>0</td>\n",
       "      <td>0</td>\n",
       "      <td>0</td>\n",
       "      <td>00011010000</td>\n",
       "      <td>68</td>\n",
       "      <td>406.621298</td>\n",
       "    </tr>\n",
       "    <tr>\n",
       "      <th>673</th>\n",
       "      <td>006382a3-4a442001</td>\n",
       "      <td>35s</td>\n",
       "      <td>0</td>\n",
       "      <td>0</td>\n",
       "      <td>0</td>\n",
       "      <td>0</td>\n",
       "      <td>0</td>\n",
       "      <td>1</td>\n",
       "      <td>2</td>\n",
       "      <td>0</td>\n",
       "      <td>3</td>\n",
       "      <td>1</td>\n",
       "      <td>0</td>\n",
       "      <td>0</td>\n",
       "      <td>1</td>\n",
       "      <td>0</td>\n",
       "      <td>00012010010</td>\n",
       "      <td>111</td>\n",
       "      <td>406.372969</td>\n",
       "    </tr>\n",
       "  </tbody>\n",
       "</table>\n",
       "<p>674 rows × 19 columns</p>\n",
       "</div>"
      ],
      "text/plain": [
       "              FileName timestamp  peds_speed  weaving  swerving  sideslip  \\\n",
       "0    0000f77c-62c2a288        5s           0        0         0         0   \n",
       "1    0000f77c-62c2a288       10s           0        0         0         0   \n",
       "2    0000f77c-62c2a288       15s           0        0         0         0   \n",
       "3    0000f77c-62c2a288       20s           0        0         0         0   \n",
       "4    0000f77c-62c2a288       25s           0        0         0         0   \n",
       "..                 ...       ...         ...      ...       ...       ...   \n",
       "669  006382a3-4a442001       10s           0        0         0         0   \n",
       "670  006382a3-4a442001       15s           0        0         0         0   \n",
       "671  006382a3-4a442001       25s           0        0         0         0   \n",
       "672  006382a3-4a442001       30s           0        0         0         0   \n",
       "673  006382a3-4a442001       35s           0        0         0         0   \n",
       "\n",
       "     timeofday  roadtype  Congestion  BrakeLight  GroundTruthRating  \\\n",
       "0            1         2           0           0                  4   \n",
       "1            1         2           0           0                  4   \n",
       "2            1         2           0           0                  4   \n",
       "3            1         2           0           0                  4   \n",
       "4            1         2           0           0                  4   \n",
       "..         ...       ...         ...         ...                ...   \n",
       "669          0         1           1           1                  3   \n",
       "670          0         1           1           0                  3   \n",
       "671          0         1           1           0                  4   \n",
       "672          0         1           1           0                  4   \n",
       "673          0         1           2           0                  3   \n",
       "\n",
       "     Jerk_binary  relspeed_binary  reldist_binary  turns_binary  stop_binary  \\\n",
       "0              0                0               0             0            0   \n",
       "1              0                0               0             0            1   \n",
       "2              0                0               0             0            0   \n",
       "3              1                0               0             1            1   \n",
       "4              0                0               0             0            0   \n",
       "..           ...              ...             ...           ...          ...   \n",
       "669            1                0               0             0            0   \n",
       "670            0                0               0             0            0   \n",
       "671            1                0               0             0            1   \n",
       "672            1                0               0             0            0   \n",
       "673            1                0               0             1            0   \n",
       "\n",
       "              ID  state       value  \n",
       "0    00120000000      0  407.115536  \n",
       "1    00120000001      1  407.044341  \n",
       "2    00120000000      0  407.115536  \n",
       "3    00120010011      2  407.044341  \n",
       "4    00120000000      0  407.115536  \n",
       "..           ...    ...         ...  \n",
       "669  00011110000    267  406.300285  \n",
       "670  00011000000     49  407.374066  \n",
       "671  00011010001    200  406.348245  \n",
       "672  00011010000     68  406.621298  \n",
       "673  00012010010    111  406.372969  \n",
       "\n",
       "[674 rows x 19 columns]"
      ]
     },
     "execution_count": 14,
     "metadata": {},
     "output_type": "execute_result"
    }
   ],
   "source": [
    "df.to_csv('output1.csv')"
   ]
  },
  {
   "cell_type": "code",
   "execution_count": null,
   "metadata": {},
   "outputs": [],
   "source": [
    "import numpy as np\n",
    "import matplotlib.pyplot as plt\n",
    "import pandas as pd\n",
    "from sklearn.ensemble import RandomForestRegressor\n",
    "from sklearn.model_selection import train_test_split\n",
    "from sklearn import metrics\n",
    "import seaborn as sns\n",
    "import matplotlib.pyplot as plt\n",
    "from sklearn.preprocessing import LabelEncoder\n",
    "import numpy as np\n",
    "from sklearn import tree"
   ]
  },
  {
   "cell_type": "code",
   "execution_count": null,
   "metadata": {},
   "outputs": [],
   "source": [
    "regressor = RandomForestRegressor(n_estimators=10, random_state=0)\n",
    "\n",
    "data = pd.read_csv('output1.csv',header=0,sep=\";\")\n",
    "df = pd.DataFrame(data, columns = data.columns)\n",
    "\n",
    "df.shape\n",
    "df.columns"
   ]
  },
  {
   "cell_type": "code",
   "execution_count": null,
   "metadata": {},
   "outputs": [],
   "source": [
    "x = df.drop(columns = [\"Unnamed: 0\",\"Unnamed: 0.1\",\"FileName\",\"timestamp\",\"GroundTruthRating\",\"ID\",\"state\",\"value\",\"norm_value\"])\n",
    "#print(x[0:5])\n",
    "y = df[\"norm_value\"]#save the feature name and target variables\n",
    "x.columns\n",
    "# y.columns\n",
    "feature_names = x.columns\n",
    " \n",
    "# fit the regressor with x and y data\n",
    "regressor.fit(x, y)"
   ]
  },
  {
   "cell_type": "code",
   "execution_count": null,
   "metadata": {},
   "outputs": [],
   "source": [
    "train_pred = regressor.predict(x[:1])\n",
    "feature_imp = pd.Series(regressor.feature_importances_,index=feature_names).sort_values(ascending=False)\n",
    "type(feature_imp)\n",
    "sns.barplot(x=feature_imp, y=feature_imp.index)\n",
    "plt.xlabel('Feature Importance Score')\n",
    "plt.ylabel('Features')\n",
    "plt.title(\"Visualizing Important Features\")\n",
    "plt.rcParams[\"figure.figsize\"] = (7,10)\n",
    "plt.legend()\n",
    "plt.show()\n"
   ]
  },
  {
   "cell_type": "code",
   "execution_count": null,
   "metadata": {},
   "outputs": [],
   "source": [
    "for i,v in enumerate(feature_imp):\n",
    "\tprint('Feature: %s, Score: %.5f' % (feature_imp.index[i],v))\n",
    "  "
   ]
  },
  {
   "cell_type": "code",
   "execution_count": null,
   "metadata": {},
   "outputs": [],
   "source": [
    "import shap\n",
    "X_importance = x[:] ######## test set passed, can be passed training set as well\n",
    "\n",
    "# Explain model predictions using shap library:\n",
    "explainer = shap.TreeExplainer(regressor) ###### lgb_model is the fitted model\n",
    "shap_values = explainer.shap_values(X_importance)\n",
    "shap.summary_plot(shap_values, X_importance)"
   ]
  },
  {
   "cell_type": "code",
   "execution_count": null,
   "metadata": {},
   "outputs": [],
   "source": [
    "importance_df = pd.DataFrame(index=[X_importance.columns.tolist()])\n",
    "#importance_df = pd.DataFrame([X_importance.columns.tolist()]).T\n",
    "#importance_df.columns = ['column_name']\n",
    "print(importance_df)\n",
    "for i in np.unique(y):\n",
    "    shap_sum = np.abs(shap_values[i]).mean(axis=0)\n",
    "    shap_sum= shap_sum.astype('float')\n",
    "    importance_df[i] = shap_sum.tolist()\n",
    "\n",
    "\n",
    "\n",
    "importance_df = importance_df.sort_values(0, ascending=False)\n",
    "result = importance_df.idxmax(axis=1)\n",
    "importance_df\n",
    "importance_df.head(5)\n",
    "print(result)\n",
    "data_top = importance_df.head(5)\n",
    "important_fetures= data_top.index.tolist()"
   ]
  }
 ],
 "metadata": {
  "kernelspec": {
   "display_name": "Python 3",
   "language": "python",
   "name": "python3"
  },
  "language_info": {
   "codemirror_mode": {
    "name": "ipython",
    "version": 3
   },
   "file_extension": ".py",
   "mimetype": "text/x-python",
   "name": "python",
   "nbconvert_exporter": "python",
   "pygments_lexer": "ipython3",
   "version": "3.8.3"
  }
 },
 "nbformat": 4,
 "nbformat_minor": 5
}
